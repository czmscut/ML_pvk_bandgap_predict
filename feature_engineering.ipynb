{
 "cells": [
  {
   "cell_type": "code",
   "execution_count": null,
   "id": "875658d3-b406-4e47-9434-b9327026f4cb",
   "metadata": {},
   "outputs": [],
   "source": [
    "import pandas as pd\n",
    "import numpy as np\n",
    "from sklearn.model_selection import cross_val_score\n",
    "from sklearn.ensemble import RandomForestRegressor\n",
    "from xgboost import XGBRegressor as XGBR\n",
    "from sklearn.neural_network import MLPRegressor"
   ]
  },
  {
   "cell_type": "code",
   "execution_count": null,
   "id": "52b7a3c6-c2df-4a54-ba92-1d1da4bb3bf9",
   "metadata": {},
   "outputs": [],
   "source": [
    "data = pd.read_csv('Startegy1.csv')    #运行完改Startegy2"
   ]
  },
  {
   "cell_type": "code",
   "execution_count": null,
   "id": "2c31418c-edfd-453a-9da3-cec55bc404dd",
   "metadata": {},
   "outputs": [],
   "source": [
    "df = data\n",
    "X = df.drop(columns = ['pretty_formula','formation_energy_per_atom','band_gap'])\n",
    "Y_bg = df.loc[:,'band_gap']\n",
    "Y_fe = df.loc[:,'formation_energy_per_atom']"
   ]
  },
  {
   "cell_type": "code",
   "execution_count": null,
   "id": "a584c48e-2031-4d55-8060-cd0a766012ed",
   "metadata": {},
   "outputs": [],
   "source": [
    "from sklearn.preprocessing import StandardScaler\n",
    "col = X.columns.tolist()\n",
    "X_sta = np.copy(X)\n",
    "X_sta = pd.DataFrame(X_sta)\n",
    "X_sta.columns = col\n",
    "X_sta.loc[:,col] = StandardScaler().fit_transform(X_sta.loc[:,col])\n",
    "X_sta.columns = X_sta.columns.str.translate(\"\".maketrans({\"[\":\"{\", \"]\":\"}\",\"<\":\"^\"}))"
   ]
  },
  {
   "cell_type": "code",
   "execution_count": null,
   "id": "aaa64964-3091-4eae-899d-cc25526e9862",
   "metadata": {},
   "outputs": [],
   "source": [
    "from sklearn.feature_selection import VarianceThreshold\n",
    "\n",
    "selector = VarianceThreshold()    \n",
    "X_var0 = selector.fit_transform(X_sta)\n",
    "\n",
    "selector_name_index = selector.get_support(indices=True)   \n",
    "fea_name = X_sta.columns.values.tolist()   \n",
    "selector_name = []   \n",
    "\n",
    "for i in selector_name_index:\n",
    "    selector_name.append(fea_name[i])\n",
    "\n",
    "X_var0 = pd.DataFrame(X_var0)\n",
    "X_var0.columns = selector_name\n",
    "X_var0"
   ]
  },
  {
   "cell_type": "code",
   "execution_count": null,
   "id": "37ba8a29-5d4e-4eda-a710-2c8b44d8098a",
   "metadata": {},
   "outputs": [],
   "source": [
    "# Startegy1 model\n",
    "\n",
    "#XGB\n",
    "xgb = XGBR(random_state=30\n",
    "            ,n_estimators = 382\n",
    "            ,eta = 0.0263\n",
    "            ,reg_alpha = 0\n",
    "            ,reg_lambda = 0\n",
    "            ,gamma = 0\n",
    "            ,max_depth = 10\n",
    "            ,colsample_bytree = 1\n",
    "            ,colsample_bylevel = 0.5\n",
    "            ,colsample_bynode = 1\n",
    "            ,min_child_weight = 9.998\n",
    "            )\n",
    "\n",
    "\n",
    "#rfr\n",
    "rfr = RandomForestRegressor(random_state=30\n",
    "                            ,n_estimators = 944\n",
    "                            ,max_depth = 17\n",
    "                            ,max_features = 'sqrt'\n",
    "                            ,min_samples_split = 3\n",
    "                            ,min_samples_leaf = 1\n",
    "                            ,bootstrap=True\n",
    "                            )\n",
    "#mlpr\n",
    "mlpr = MLPRegressor(random_state=30\n",
    "                      ,hidden_layer_sizes = (78,57,69)\n",
    "                      ,activation = 'logistic'\n",
    "                      ,learning_rate_init = 0.01\n",
    "                      ,learning_rate = 'constant'\n",
    "                      ,solver = 'adam'\n",
    "                      ,max_iter = 2000\n",
    "                      ,alpha = 0.1               \n",
    "                       )\n",
    "\n",
    "from sklearn.feature_selection import SelectFromModel\n",
    "from sklearn.inspection import permutation_importance\n",
    "\n",
    "fea_imp1 = xgb.fit(X_var0,Y_bg).feature_importances_\n",
    "features1 = pd.DataFrame(sorted(zip(fea_imp1,X_var0.columns),reverse=True))\n",
    "\n",
    "fea_imp2 = rfr.fit(X_var0,Y_bg).feature_importances_\n",
    "features2 = pd.DataFrame(sorted(zip(fea_imp2,X_var0.columns),reverse=True))\n",
    "\n",
    "mlpr.fit(X_var0,Y_bg)\n",
    "fea_imp3 = permutation_importance(mlpr,X_var0,Y_bg,n_repeats=20)\n",
    "features3 = pd.DataFrame(sorted(zip(fea_imp3.importances_mean,X_var0.columns),reverse=True))"
   ]
  },
  {
   "cell_type": "code",
   "execution_count": null,
   "id": "4b673c79-132d-4d7b-b403-679a5fbdf8d0",
   "metadata": {},
   "outputs": [],
   "source": [
    "X_xgb, X_rfr, X_mlpr = [], [], []\n",
    "X_xgb = pd.DataFrame(X_xgb)\n",
    "X_rfr = pd.DataFrame(X_rfr)\n",
    "X_mlpr = pd.DataFrame(X_mlpr)\n",
    "\n",
    "for i in range(1,features1.shape[0]+1,1):\n",
    "    X_xgb.insert(loc=i-1,column=features1[1][i-1],value=X_var0.loc[:,features1[1][i-1]])\n",
    "    X_rfr.insert(loc=i-1,column=features2[1][i-1],value=X_var0.loc[:,features2[1][i-1]])\n",
    "    X_mlpr.insert(loc=i-1,column=features3[1][i-1],value=X_var0.loc[:,features3[1][i-1]])"
   ]
  },
  {
   "cell_type": "code",
   "execution_count": null,
   "id": "a5d1c08a-3402-4154-ae39-a4f37f445a32",
   "metadata": {},
   "outputs": [],
   "source": [
    "Y = Y_bg\n",
    "score_xgb = []\n",
    "score_mlpr = []\n",
    "score_rfr = []\n",
    "\n",
    "for i in range(int(X_var0.shape[1]/20)):\n",
    "    X_1 = X_xgb.iloc[:,0:(i+1)*20]\n",
    "    X_2 = X_rfr.iloc[:,0:(i+1)*20]\n",
    "    X_3 = X_mlpr.iloc[:,0:(i+1)*20]\n",
    "\n",
    "    score1 = cross_val_score(xgb,X_1,Y,cv=10).mean()\n",
    "    score_xgb.append(score1)\n",
    "\n",
    "    score2 = cross_val_score(rfr,X_2,Y,cv=10).mean()\n",
    "    score_rfr.append(score2)\n",
    "\n",
    "    score3 = cross_val_score(mlpr,X_3,Y,cv=10).mean()\n",
    "    score_mlpr.append(score3)"
   ]
  },
  {
   "cell_type": "code",
   "execution_count": null,
   "id": "6f90dee6-ceaa-4b02-a9c4-cd85fa956d57",
   "metadata": {},
   "outputs": [],
   "source": []
  },
  {
   "cell_type": "code",
   "execution_count": null,
   "id": "da614014-39e7-475d-8ac1-c22c1c2807b3",
   "metadata": {},
   "outputs": [],
   "source": []
  },
  {
   "cell_type": "code",
   "execution_count": null,
   "id": "6287456d-7bb4-4331-b8b3-4cb8e90894c2",
   "metadata": {},
   "outputs": [],
   "source": []
  },
  {
   "cell_type": "code",
   "execution_count": null,
   "id": "29053820-db03-4f81-9e3c-31056e99801f",
   "metadata": {},
   "outputs": [],
   "source": []
  }
 ],
 "metadata": {
  "kernelspec": {
   "display_name": "Python 3 (ipykernel)",
   "language": "python",
   "name": "python3"
  },
  "language_info": {
   "codemirror_mode": {
    "name": "ipython",
    "version": 3
   },
   "file_extension": ".py",
   "mimetype": "text/x-python",
   "name": "python",
   "nbconvert_exporter": "python",
   "pygments_lexer": "ipython3",
   "version": "3.10.13"
  }
 },
 "nbformat": 4,
 "nbformat_minor": 5
}
